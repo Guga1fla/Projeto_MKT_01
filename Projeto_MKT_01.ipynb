{
  "nbformat": 4,
  "nbformat_minor": 0,
  "metadata": {
    "colab": {
      "provenance": [],
      "authorship_tag": "ABX9TyPsDF780v30cRA1uajnK7hO",
      "include_colab_link": true
    },
    "kernelspec": {
      "name": "python3",
      "display_name": "Python 3"
    },
    "language_info": {
      "name": "python"
    }
  },
  "cells": [
    {
      "cell_type": "markdown",
      "metadata": {
        "id": "view-in-github",
        "colab_type": "text"
      },
      "source": [
        "<a href=\"https://colab.research.google.com/github/Guga1fla/Projeto_MKT_01/blob/main/Projeto_MKT_01.ipynb\" target=\"_parent\"><img src=\"https://colab.research.google.com/assets/colab-badge.svg\" alt=\"Open In Colab\"/></a>"
      ]
    },
    {
      "cell_type": "code",
      "source": [
        "import pandas as pd\n",
        "\n",
        "# Dados dos clientes\n",
        "dados = {\n",
        "    'NOME DO PACIENTE': ['João Silva', 'Maria Oliveira'],\n",
        "    'PLANO DE PAGAMENTO': ['Recorrente Mensal', 'Recorrente Anual'],\n",
        "    'MÊS 01': [100, 500],\n",
        "    'MÊS 02': [100, 0],\n",
        "    'MÊS 03': [100, 0],\n",
        "    'MÊS 04': [100, 0],\n",
        "    'MÊS 05': [100, 0],\n",
        "    'MÊS 06': [100, 0],\n",
        "    'Custo de Aquisição (Marketing)': [50, 200],\n",
        "}\n",
        "\n",
        "# Criar o DataFrame\n",
        "df = pd.DataFrame(dados)\n",
        "\n",
        "# Calcular a entrada e o lucro\n",
        "df['Entrada Desse Cliente'] = df[['MÊS 01', 'MÊS 02', 'MÊS 03', 'MÊS 04', 'MÊS 05', 'MÊS 06']].sum(axis=1)\n",
        "df['Lucro Desse Cliente'] = df['Entrada Desse Cliente'] - df['Custo de Aquisição (Marketing)']\n",
        "\n",
        "# Exibir o DataFrame\n",
        "print(df)\n",
        "\n",
        "# Converter o DataFrame para Markdown\n",
        "tabela_markdown = df.to_markdown(index=False)\n",
        "\n",
        "# Exibir a tabela Markdown\n",
        "print(tabela_markdown)\n",
        "\n"
      ],
      "metadata": {
        "colab": {
          "base_uri": "https://localhost:8080/"
        },
        "id": "kdjfoqYJiR3h",
        "outputId": "f6675b70-70d0-4bb0-c396-f438064457b4"
      },
      "execution_count": 4,
      "outputs": [
        {
          "output_type": "stream",
          "name": "stdout",
          "text": [
            "  NOME DO PACIENTE PLANO DE PAGAMENTO  MÊS 01  MÊS 02  MÊS 03  MÊS 04  MÊS 05  \\\n",
            "0       João Silva  Recorrente Mensal     100     100     100     100     100   \n",
            "1   Maria Oliveira   Recorrente Anual     500       0       0       0       0   \n",
            "\n",
            "   MÊS 06  Custo de Aquisição (Marketing)  Entrada Desse Cliente  \\\n",
            "0     100                              50                    600   \n",
            "1       0                             200                    500   \n",
            "\n",
            "   Lucro Desse Cliente  \n",
            "0                  550  \n",
            "1                  300  \n",
            "| NOME DO PACIENTE   | PLANO DE PAGAMENTO   |   MÊS 01 |   MÊS 02 |   MÊS 03 |   MÊS 04 |   MÊS 05 |   MÊS 06 |   Custo de Aquisição (Marketing) |   Entrada Desse Cliente |   Lucro Desse Cliente |\n",
            "|:-------------------|:---------------------|---------:|---------:|---------:|---------:|---------:|---------:|---------------------------------:|------------------------:|----------------------:|\n",
            "| João Silva         | Recorrente Mensal    |      100 |      100 |      100 |      100 |      100 |      100 |                               50 |                     600 |                   550 |\n",
            "| Maria Oliveira     | Recorrente Anual     |      500 |        0 |        0 |        0 |        0 |        0 |                              200 |                     500 |                   300 |\n"
          ]
        }
      ]
    }
  ]
}